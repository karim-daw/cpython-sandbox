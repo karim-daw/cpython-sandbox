{
 "cells": [
  {
   "cell_type": "code",
   "execution_count": 6,
   "metadata": {},
   "outputs": [
    {
     "name": "stdout",
     "output_type": "stream",
     "text": [
      "Hello, my name is Karim, nice to meet you\n"
     ]
    }
   ],
   "source": [
    "# basic class - 01 - init \n",
    "\n",
    "class Person():\n",
    "    def __init__(self, name):\n",
    "        self.Name = name\n",
    "    \n",
    "    def Greeting(self, message):\n",
    "        self.Message = message\n",
    "    \n",
    "    def Introduce(self):\n",
    "        print(f\"Hello, my name is {self.Name}, {self.Message}\")\n",
    "\n",
    "# init Person\n",
    "dude = Person(\"Karim\")\n",
    "\n",
    "# declare greeting\n",
    "dude.Greeting(\"nice to meet you\")\n",
    "\n",
    "dude.Introduce()"
   ]
  },
  {
   "cell_type": "code",
   "execution_count": null,
   "metadata": {},
   "outputs": [],
   "source": [
    "# basic class - 02 - getters and setters"
   ]
  },
  {
   "cell_type": "code",
   "execution_count": null,
   "metadata": {},
   "outputs": [],
   "source": [
    "class Animal():\n",
    "    def __init__(self, specie):\n",
    "        self.Specie = specie\n",
    "        \n",
    "    def GetSpecie(self,x):\n",
    "        x = self.Specie\n",
    "        \n",
    "    def SetSpecie(self,x):\n",
    "        self.Specie = x\n",
    "    \n",
    "    def ShowMe(self):\n",
    "        print(f\"This animal is a {self.Specie}\")\n",
    "        \n",
    "        \n",
    "    "
   ]
  }
 ],
 "metadata": {
  "kernelspec": {
   "display_name": "Python 3",
   "language": "python",
   "name": "python3"
  },
  "language_info": {
   "codemirror_mode": {
    "name": "ipython",
    "version": 3
   },
   "file_extension": ".py",
   "mimetype": "text/x-python",
   "name": "python",
   "nbconvert_exporter": "python",
   "pygments_lexer": "ipython3",
   "version": "3.8.6"
  }
 },
 "nbformat": 4,
 "nbformat_minor": 4
}
