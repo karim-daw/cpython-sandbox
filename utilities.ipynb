{
 "cells": [
  {
   "cell_type": "markdown",
   "metadata": {},
   "source": [
    "### basic class init "
   ]
  },
  {
   "cell_type": "code",
   "execution_count": 1,
   "metadata": {},
   "outputs": [
    {
     "name": "stdout",
     "output_type": "stream",
     "text": [
      "Hello, my name is Karim, nice to meet you\n"
     ]
    }
   ],
   "source": [
    "class Person():\n",
    "    def __init__(self, name):\n",
    "        self.Name = name\n",
    "    \n",
    "    def Greeting(self, message):\n",
    "        self.Message = message\n",
    "    \n",
    "    def Introduce(self):\n",
    "        print(f\"Hello, my name is {self.Name}, {self.Message}\")\n",
    "\n",
    "# init Person\n",
    "dude = Person(\"Karim\")\n",
    "\n",
    "# declare greeting\n",
    "dude.Greeting(\"nice to meet you\")\n",
    "\n",
    "dude.Introduce()"
   ]
  },
  {
   "cell_type": "markdown",
   "metadata": {},
   "source": [
    "### getters and setters"
   ]
  },
  {
   "cell_type": "code",
   "execution_count": 2,
   "metadata": {},
   "outputs": [
    {
     "name": "stdout",
     "output_type": "stream",
     "text": [
      "This animal is a Tiger\n",
      "This animal is a Elephant\n"
     ]
    }
   ],
   "source": [
    "class Animal():\n",
    "    def __init__(self, specie):\n",
    "        self.Specie = specie\n",
    "        \n",
    "    def GetSpecie(self):\n",
    "        x = self.Specie\n",
    "        \n",
    "    def SetSpecie(self,x):\n",
    "        self.Specie = x\n",
    "    \n",
    "    def ShowMe(self):\n",
    "        print(f\"This animal is a {self.Specie}\")\n",
    "        \n",
    "animal = Animal(\"Tiger\")\n",
    "animal.ShowMe()\n",
    "\n",
    "animal.SetSpecie(\"Elephant\")\n",
    "animal.ShowMe()\n",
    "    "
   ]
  },
  {
   "cell_type": "code",
   "execution_count": 42,
   "metadata": {},
   "outputs": [],
   "source": [
    "# Making Getters and Setter methods\n",
    "class Celsius:\n",
    "    def __init__(self, temperature=0):\n",
    "        self.set_temperature(temperature)\n",
    "\n",
    "    def to_fahrenheit(self):\n",
    "        return (self.get_temperature() * 1.8) + 32\n",
    "\n",
    "    # getter method\n",
    "    def get_temperature(self):\n",
    "        return self._temperature\n",
    "\n",
    "    # setter method\n",
    "    def set_temperature(self, value):\n",
    "        if value < -273.15:\n",
    "            raise ValueError(\"Temperature below -273.15 is not possible.\")\n",
    "        self._temperature = value"
   ]
  },
  {
   "cell_type": "markdown",
   "metadata": {},
   "source": [
    "### @Decorators"
   ]
  },
  {
   "cell_type": "markdown",
   "metadata": {},
   "source": [
    "Functions and methods are called callable as they can be called.\n",
    "\n",
    "In fact, any object which implements the special __call__() method is termed callable. So, in the most basic sense, a decorator is a callable that returns a callable.\n",
    "\n",
    "Basically, a decorator takes in a function, adds some functionality and returns it."
   ]
  },
  {
   "cell_type": "code",
   "execution_count": 3,
   "metadata": {},
   "outputs": [],
   "source": [
    "# basic function\n",
    "\n",
    "#def basicIntro():\n",
    "    #return \" My name is Karim\"\n",
    "\n",
    "# function to use to decorate something\n",
    "def decorateMe(func):\n",
    "    def inner():\n",
    "        myString = \"Hello there,\" + func()\n",
    "        #print(myString)\n",
    "        return myString\n",
    "    return inner\n",
    "\n",
    "def offerDrink(func):\n",
    "    def inner():\n",
    "        myString = func() + \", Care for a drink?\"\n",
    "        #print(myString)\n",
    "        return myString\n",
    "    return inner\n",
    "        \n",
    "\n",
    "\n",
    "# generally you decorate a function and assign it as is\n",
    "#basicIntro = decorateMe(basicIntro)\n",
    "#print(basicIntro)\n"
   ]
  },
  {
   "cell_type": "code",
   "execution_count": 4,
   "metadata": {},
   "outputs": [
    {
     "data": {
      "text/plain": [
       "'Hello there, I am Karim, Care for a drink?'"
      ]
     },
     "execution_count": 4,
     "metadata": {},
     "output_type": "execute_result"
    }
   ],
   "source": [
    "# using the @decorators syntax\n",
    "@decorateMe\n",
    "@offerDrink\n",
    "def basicIntro():\n",
    "    return \" I am Karim\"\n",
    "\n",
    "basicIntro()\n"
   ]
  },
  {
   "cell_type": "code",
   "execution_count": 5,
   "metadata": {},
   "outputs": [
    {
     "name": "stdout",
     "output_type": "stream",
     "text": [
      "I am Karim\n",
      "Hello there,I am Karim\n",
      "Hello there,I am Karim, Care for a drink?\n",
      "I am Karim, Care for a drink?\n"
     ]
    }
   ],
   "source": [
    "# simple intro\n",
    "def Intro():\n",
    "    return \"I am Karim\"\n",
    "print (Intro())\n",
    "\n",
    "# friendly intro\n",
    "@decorateMe\n",
    "def Intro():\n",
    "    return \"I am Karim\"\n",
    "print(Intro())\n",
    "\n",
    "# charming intro\n",
    "@decorateMe\n",
    "@offerDrink\n",
    "def Intro():\n",
    "    return \"I am Karim\"\n",
    "print(Intro())\n",
    "\n",
    "\n",
    "# not charming intro\n",
    "@offerDrink\n",
    "def Intro():\n",
    "    return \"I am Karim\"\n",
    "print(Intro())\n",
    "\n",
    "\n",
    "\n",
    "\n",
    "\n"
   ]
  },
  {
   "cell_type": "markdown",
   "metadata": {},
   "source": [
    "### *args"
   ]
  },
  {
   "cell_type": "code",
   "execution_count": 38,
   "metadata": {},
   "outputs": [
    {
     "name": "stdout",
     "output_type": "stream",
     "text": [
      "15\n",
      "1\n"
     ]
    }
   ],
   "source": [
    "def adder(*args):\n",
    "    sum = 0\n",
    "    for arg in args:\n",
    "        sum += arg\n",
    "        \n",
    "    return sum\n",
    "\n",
    "print(adder(1,2,3,4,5))\n",
    "print(adder(1))"
   ]
  },
  {
   "cell_type": "code",
   "execution_count": 39,
   "metadata": {},
   "outputs": [
    {
     "name": "stdout",
     "output_type": "stream",
     "text": [
      "a is 1\n",
      "b is 3\n",
      "args is (0.555, 120.2, -15, 12222)\n"
     ]
    }
   ],
   "source": [
    "def splitByNumber(a,b,c, *args):\n",
    "    print(f\"a is {a}\")\n",
    "    print(f\"b is {b}\")\n",
    "    print(f\"args is {args}\")\n",
    "\n",
    "splitByNumber(1,3,4,0.555,120.2,-15,12222)"
   ]
  },
  {
   "cell_type": "code",
   "execution_count": 40,
   "metadata": {},
   "outputs": [
    {
     "name": "stdout",
     "output_type": "stream",
     "text": [
      "23\n",
      "0\n",
      "this throws an errorr!!! missing arguments\n"
     ]
    }
   ],
   "source": [
    "def addition(a, b, *args, option=True):\n",
    "    result = 0\n",
    "    if option:\n",
    "      for i in args:\n",
    "          result += i\n",
    "      return a + b + result\n",
    "    else:\n",
    "      return result\n",
    "\n",
    "print(addition(1,4,5,6,7))\n",
    "\n",
    "print(addition(1,4,5,6,7, option=False))\n",
    "\n",
    "try: \n",
    "    addition(1)\n",
    "except:\n",
    "    print(\"this throws an errorr!!! missing arguments\")"
   ]
  },
  {
   "cell_type": "code",
   "execution_count": 41,
   "metadata": {},
   "outputs": [
    {
     "name": "stdout",
     "output_type": "stream",
     "text": [
      "(1, 4, 5)\n"
     ]
    }
   ],
   "source": [
    "# this is a nice trick\n",
    "#If we put an asterisk before lst, \n",
    "#the values in the list will be unpacked \n",
    "# and stored in args tuple separately.\n",
    "\n",
    "def arg_printer(*args):\n",
    "   print(args)\n",
    "\n",
    "lst = [1,4,5]\n",
    "arg_printer(*lst)"
   ]
  },
  {
   "cell_type": "markdown",
   "metadata": {},
   "source": [
    "### **kwargs"
   ]
  },
  {
   "cell_type": "code",
   "execution_count": 6,
   "metadata": {},
   "outputs": [
    {
     "name": "stdout",
     "output_type": "stream",
     "text": [
      "\n",
      "Data type of argument: <class 'dict'>\n",
      "Firstname is Sita\n",
      "Lastname is Sharma\n",
      "Age is 22\n",
      "Phone is 1234567890\n",
      "\n",
      "Data type of argument: <class 'dict'>\n",
      "Firstname is John\n",
      "Lastname is Wood\n",
      "Email is johnwood@nomail.com\n",
      "Country is Wakanda\n",
      "Age is 25\n",
      "Phone is 9876543210\n"
     ]
    }
   ],
   "source": [
    "def intro(**kwargs):\n",
    "    print(\"\\nData type of argument:\",type(kwargs))\n",
    "\n",
    "    for key, value in kwargs.items():\n",
    "        print(\"{} is {}\".format(key,value))\n",
    "\n",
    "intro(Firstname=\"Sita\", Lastname=\"Sharma\", Age=22, Phone=1234567890)\n",
    "intro(Firstname=\"John\", Lastname=\"Wood\", Email=\"johnwood@nomail.com\", Country=\"Wakanda\", Age=25, Phone=9876543210)\n"
   ]
  }
 ],
 "metadata": {
  "kernelspec": {
   "display_name": "Python 3",
   "language": "python",
   "name": "python3"
  },
  "language_info": {
   "codemirror_mode": {
    "name": "ipython",
    "version": 3
   },
   "file_extension": ".py",
   "mimetype": "text/x-python",
   "name": "python",
   "nbconvert_exporter": "python",
   "pygments_lexer": "ipython3",
   "version": "3.8.6"
  }
 },
 "nbformat": 4,
 "nbformat_minor": 4
}
