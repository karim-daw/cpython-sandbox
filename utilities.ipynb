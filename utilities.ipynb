{
 "cells": [
  {
   "cell_type": "markdown",
   "metadata": {},
   "source": [
    "### 01 - basic class init "
   ]
  },
  {
   "cell_type": "code",
   "execution_count": 6,
   "metadata": {},
   "outputs": [
    {
     "name": "stdout",
     "output_type": "stream",
     "text": [
      "Hello, my name is Karim, nice to meet you\n"
     ]
    }
   ],
   "source": [
    "class Person():\n",
    "    def __init__(self, name):\n",
    "        self.Name = name\n",
    "    \n",
    "    def Greeting(self, message):\n",
    "        self.Message = message\n",
    "    \n",
    "    def Introduce(self):\n",
    "        print(f\"Hello, my name is {self.Name}, {self.Message}\")\n",
    "\n",
    "# init Person\n",
    "dude = Person(\"Karim\")\n",
    "\n",
    "# declare greeting\n",
    "dude.Greeting(\"nice to meet you\")\n",
    "\n",
    "dude.Introduce()"
   ]
  },
  {
   "cell_type": "markdown",
   "metadata": {},
   "source": [
    "### 02 - getters and setters"
   ]
  },
  {
   "cell_type": "code",
   "execution_count": 13,
   "metadata": {},
   "outputs": [
    {
     "name": "stdout",
     "output_type": "stream",
     "text": [
      "This animal is a Tiger\n",
      "This animal is a Elephant\n"
     ]
    }
   ],
   "source": [
    "class Animal():\n",
    "    def __init__(self, specie):\n",
    "        self.Specie = specie\n",
    "        \n",
    "    def GetSpecie(self):\n",
    "        x = self.Specie\n",
    "        \n",
    "    def SetSpecie(self,x):\n",
    "        self.Specie = x\n",
    "    \n",
    "    def ShowMe(self):\n",
    "        print(f\"This animal is a {self.Specie}\")\n",
    "        \n",
    "animal = Animal(\"Tiger\")\n",
    "animal.ShowMe()\n",
    "\n",
    "animal.SetSpecie(\"Elephant\")\n",
    "animal.ShowMe()\n",
    "    "
   ]
  },
  {
   "cell_type": "markdown",
   "metadata": {},
   "source": [
    "### 03 - @Decorators"
   ]
  },
  {
   "cell_type": "markdown",
   "metadata": {},
   "source": [
    "Functions and methods are called callable as they can be called.\n",
    "\n",
    "In fact, any object which implements the special __call__() method is termed callable. So, in the most basic sense, a decorator is a callable that returns a callable.\n",
    "\n",
    "Basically, a decorator takes in a function, adds some functionality and returns it."
   ]
  },
  {
   "cell_type": "code",
   "execution_count": 27,
   "metadata": {},
   "outputs": [
    {
     "name": "stdout",
     "output_type": "stream",
     "text": [
      "Hola, Im normal\n",
      "Hola, Im normal\n",
      "Hello there, My name is Karim\n"
     ]
    }
   ],
   "source": [
    "# basic function\n",
    "\n",
    "def basicIntro():\n",
    "    print(\"Hola, Im normal\")\n",
    "    return \" My name is Karim\"\n",
    "\n",
    "# function to use to decorate something\n",
    "def decorateMe(func):\n",
    "    def inner():\n",
    "        return \"Hello there,\"\n",
    "    print (inner() + func())\n",
    "\n",
    "basicIntro()\n",
    "\n",
    "# generally you decorate a function and assign it as is\n",
    "basicIntro = decorateMe(basicIntro)\n"
   ]
  },
  {
   "cell_type": "code",
   "execution_count": 28,
   "metadata": {},
   "outputs": [
    {
     "name": "stdout",
     "output_type": "stream",
     "text": [
      "Hello there, I am Karim\n"
     ]
    }
   ],
   "source": [
    "# using the @decorators syntax\n",
    "\n",
    "@decorateMe\n",
    "def basicIntro():\n",
    "    return \" I am Karim\"\n",
    "\n"
   ]
  },
  {
   "cell_type": "code",
   "execution_count": null,
   "metadata": {},
   "outputs": [],
   "source": []
  }
 ],
 "metadata": {
  "kernelspec": {
   "display_name": "Python 3",
   "language": "python",
   "name": "python3"
  },
  "language_info": {
   "codemirror_mode": {
    "name": "ipython",
    "version": 3
   },
   "file_extension": ".py",
   "mimetype": "text/x-python",
   "name": "python",
   "nbconvert_exporter": "python",
   "pygments_lexer": "ipython3",
   "version": "3.8.6"
  }
 },
 "nbformat": 4,
 "nbformat_minor": 4
}
